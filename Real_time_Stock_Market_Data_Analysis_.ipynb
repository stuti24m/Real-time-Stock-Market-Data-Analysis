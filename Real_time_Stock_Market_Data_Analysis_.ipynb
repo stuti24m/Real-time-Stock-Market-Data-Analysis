{
  "nbformat": 4,
  "nbformat_minor": 0,
  "metadata": {
    "colab": {
      "name": "Real time Stock Market Data Analysis .ipynb",
      "provenance": [],
      "collapsed_sections": [],
      "authorship_tag": "ABX9TyMXwarh4zbaGhB6tVr47F36"
    },
    "kernelspec": {
      "name": "python3",
      "display_name": "Python 3"
    }
  },
  "cells": [
    {
      "cell_type": "code",
      "metadata": {
        "id": "kKREzrCyA87J",
        "colab_type": "code",
        "colab": {
          "base_uri": "https://localhost:8080/",
          "height": 581
        },
        "outputId": "c186abef-7384-4db4-9532-8fe9d91fd8f4"
      },
      "source": [
        "!pip install alpha_vantage\n"
      ],
      "execution_count": 2,
      "outputs": [
        {
          "output_type": "stream",
          "text": [
            "Collecting alpha_vantage\n",
            "  Downloading https://files.pythonhosted.org/packages/12/e3/72ec32d859a363c2eebaa42e0d4abb5ac7172a7a77a2307576ceb5fc1b42/alpha_vantage-2.2.0.tar.gz\n",
            "Collecting aiohttp\n",
            "\u001b[?25l  Downloading https://files.pythonhosted.org/packages/7c/39/7eb5f98d24904e0f6d3edb505d4aa60e3ef83c0a58d6fe18244a51757247/aiohttp-3.6.2-cp36-cp36m-manylinux1_x86_64.whl (1.2MB)\n",
            "\u001b[K     |████████████████████████████████| 1.2MB 3.4MB/s \n",
            "\u001b[?25hRequirement already satisfied: requests in /usr/local/lib/python3.6/dist-packages (from alpha_vantage) (2.23.0)\n",
            "Collecting async-timeout<4.0,>=3.0\n",
            "  Downloading https://files.pythonhosted.org/packages/e1/1e/5a4441be21b0726c4464f3f23c8b19628372f606755a9d2e46c187e65ec4/async_timeout-3.0.1-py3-none-any.whl\n",
            "Collecting yarl<2.0,>=1.0\n",
            "\u001b[?25l  Downloading https://files.pythonhosted.org/packages/95/8f/0209fc5d975f839344c33c822ff2f7ef80f6b1e984673a5a68f960bfa583/yarl-1.4.2-cp36-cp36m-manylinux1_x86_64.whl (252kB)\n",
            "\u001b[K     |████████████████████████████████| 256kB 18.8MB/s \n",
            "\u001b[?25hRequirement already satisfied: chardet<4.0,>=2.0 in /usr/local/lib/python3.6/dist-packages (from aiohttp->alpha_vantage) (3.0.4)\n",
            "Requirement already satisfied: attrs>=17.3.0 in /usr/local/lib/python3.6/dist-packages (from aiohttp->alpha_vantage) (19.3.0)\n",
            "Collecting multidict<5.0,>=4.5\n",
            "\u001b[?25l  Downloading https://files.pythonhosted.org/packages/1a/95/f50352b5366e7d579e8b99631680a9e32e1b22adfa1629a8f23b1d22d5e2/multidict-4.7.6-cp36-cp36m-manylinux1_x86_64.whl (148kB)\n",
            "\u001b[K     |████████████████████████████████| 153kB 15.2MB/s \n",
            "\u001b[?25hCollecting idna-ssl>=1.0; python_version < \"3.7\"\n",
            "  Downloading https://files.pythonhosted.org/packages/46/03/07c4894aae38b0de52b52586b24bf189bb83e4ddabfe2e2c8f2419eec6f4/idna-ssl-1.1.0.tar.gz\n",
            "Requirement already satisfied: typing-extensions>=3.6.5; python_version < \"3.7\" in /usr/local/lib/python3.6/dist-packages (from aiohttp->alpha_vantage) (3.6.6)\n",
            "Requirement already satisfied: idna<3,>=2.5 in /usr/local/lib/python3.6/dist-packages (from requests->alpha_vantage) (2.9)\n",
            "Requirement already satisfied: urllib3!=1.25.0,!=1.25.1,<1.26,>=1.21.1 in /usr/local/lib/python3.6/dist-packages (from requests->alpha_vantage) (1.24.3)\n",
            "Requirement already satisfied: certifi>=2017.4.17 in /usr/local/lib/python3.6/dist-packages (from requests->alpha_vantage) (2020.4.5.2)\n",
            "Building wheels for collected packages: alpha-vantage, idna-ssl\n",
            "  Building wheel for alpha-vantage (setup.py) ... \u001b[?25l\u001b[?25hdone\n",
            "  Created wheel for alpha-vantage: filename=alpha_vantage-2.2.0-cp36-none-any.whl size=25705 sha256=b9803027a277f5cde57a157377161ece1b7ebe1077fa1346a48009f1f4907cae\n",
            "  Stored in directory: /root/.cache/pip/wheels/3a/fa/05/80b0afcbd2a4de8bd2a0c5cd77084e3d3a9cc12c48be9b7f84\n",
            "  Building wheel for idna-ssl (setup.py) ... \u001b[?25l\u001b[?25hdone\n",
            "  Created wheel for idna-ssl: filename=idna_ssl-1.1.0-cp36-none-any.whl size=3162 sha256=d1775b749cfb185d810b02e3a81adfd7bac609337e9f73faf08058e442f93682\n",
            "  Stored in directory: /root/.cache/pip/wheels/d3/00/b3/32d613e19e08a739751dd6bf998cfed277728f8b2127ad4eb7\n",
            "Successfully built alpha-vantage idna-ssl\n",
            "Installing collected packages: async-timeout, multidict, yarl, idna-ssl, aiohttp, alpha-vantage\n",
            "Successfully installed aiohttp-3.6.2 alpha-vantage-2.2.0 async-timeout-3.0.1 idna-ssl-1.1.0 multidict-4.7.6 yarl-1.4.2\n"
          ],
          "name": "stdout"
        }
      ]
    },
    {
      "cell_type": "code",
      "metadata": {
        "id": "_kjfB1L5A-Ut",
        "colab_type": "code",
        "colab": {}
      },
      "source": [
        "import pandas as pd \n",
        "import time\n",
        "from alpha_vantage.timeseries import TimeSeries"
      ],
      "execution_count": 3,
      "outputs": []
    },
    {
      "cell_type": "code",
      "metadata": {
        "id": "7fHXXFj5A607",
        "colab_type": "code",
        "colab": {
          "base_uri": "https://localhost:8080/",
          "height": 510
        },
        "outputId": "bf255b45-a19a-4d7a-e342-80a677af1eab"
      },
      "source": [
        "api_key = 'SRF6NO46QDU1YENU'\n",
        "\n",
        "ts = TimeSeries(key=api_key, output_format='pandas')\n",
        "data, meta_data = ts.get_intraday(symbol='MSFT', interval = '1min', outputsize = 'full')\n",
        "print(data)\n",
        "\n",
        "i = 1\n",
        "#while i==1:\n",
        "#    data, meta_data = ts.get_intraday(symbol='MSFT', interval = '1min', outputsize = 'full')\n",
        "#    data.to_excel(\"output.xlsx\")\n",
        "#    time.sleep(60)\n",
        "\n",
        "close_data = data['4. close']\n",
        "percentage_change = close_data.pct_change()\n",
        "\n",
        "print(percentage_change)\n",
        "\n",
        "last_change = percentage_change[-1]\n",
        "\n",
        "if abs(last_change) > 0.0004:\n",
        "    print(\"MSFT Alert:\" + str(last_change))"
      ],
      "execution_count": 4,
      "outputs": [
        {
          "output_type": "stream",
          "text": [
            "                     1. open   2. high    3. low  4. close  5. volume\n",
            "date                                                                 \n",
            "2020-06-23 16:00:00   202.09  202.2900  201.8300  201.9000   305788.0\n",
            "2020-06-23 15:59:00   202.17  202.2300  201.9700  202.0800   192220.0\n",
            "2020-06-23 15:58:00   202.12  202.3400  202.1100  202.1800   102802.0\n",
            "2020-06-23 15:57:00   202.12  202.3178  202.0848  202.1200   100781.0\n",
            "2020-06-23 15:56:00   202.28  202.2900  202.0600  202.1100    95100.0\n",
            "...                      ...       ...       ...       ...        ...\n",
            "2020-06-18 09:36:00   195.16  195.3800  194.9000  195.1700   116302.0\n",
            "2020-06-18 09:35:00   194.87  195.2300  194.8500  195.1400   119236.0\n",
            "2020-06-18 09:34:00   194.58  194.8900  194.5800  194.8694   189953.0\n",
            "2020-06-18 09:32:00   194.16  194.7000  194.1600  194.5700    53368.0\n",
            "2020-06-18 09:31:00   194.00  194.5000  194.0000  194.1900   429105.0\n",
            "\n",
            "[1556 rows x 5 columns]\n",
            "date\n",
            "2020-06-23 16:00:00         NaN\n",
            "2020-06-23 15:59:00    0.000892\n",
            "2020-06-23 15:58:00    0.000495\n",
            "2020-06-23 15:57:00   -0.000297\n",
            "2020-06-23 15:56:00   -0.000049\n",
            "                         ...   \n",
            "2020-06-18 09:36:00   -0.000512\n",
            "2020-06-18 09:35:00   -0.000154\n",
            "2020-06-18 09:34:00   -0.001387\n",
            "2020-06-18 09:32:00   -0.001536\n",
            "2020-06-18 09:31:00   -0.001953\n",
            "Name: 4. close, Length: 1556, dtype: float64\n",
            "MSFT Alert:-0.0019530246183891986\n"
          ],
          "name": "stdout"
        }
      ]
    },
    {
      "cell_type": "code",
      "metadata": {
        "id": "K25nLxk9Arcl",
        "colab_type": "code",
        "colab": {}
      },
      "source": [
        ""
      ],
      "execution_count": null,
      "outputs": []
    }
  ]
}